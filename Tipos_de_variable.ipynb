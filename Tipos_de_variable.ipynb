{
  "nbformat": 4,
  "nbformat_minor": 0,
  "metadata": {
    "colab": {
      "provenance": [],
      "authorship_tag": "ABX9TyOnmugkEjis6yXJy3drsVUP",
      "include_colab_link": true
    },
    "kernelspec": {
      "name": "python3",
      "display_name": "Python 3"
    },
    "language_info": {
      "name": "python"
    }
  },
  "cells": [
    {
      "cell_type": "markdown",
      "metadata": {
        "id": "view-in-github",
        "colab_type": "text"
      },
      "source": [
        "<a href=\"https://colab.research.google.com/github/datascienceurc/lab2_102/blob/main/Tipos_de_variable.ipynb\" target=\"_parent\"><img src=\"https://colab.research.google.com/assets/colab-badge.svg\" alt=\"Open In Colab\"/></a>"
      ]
    },
    {
      "cell_type": "markdown",
      "source": [
        "<h1>Practica</h1>\n"
      ],
      "metadata": {
        "id": "zEiIvCotkt6X"
      }
    },
    {
      "cell_type": "markdown",
      "source": [
        "<h1>Asignación de tipos</h1>\n",
        "\n",
        "\n"
      ],
      "metadata": {
        "id": "1KpU0oeXcf8x"
      }
    },
    {
      "cell_type": "markdown",
      "source": [
        "<h2>Asignacón de tipos de variables     </h2>"
      ],
      "metadata": {
        "id": "C6Yq_0zfbk8E"
      }
    },
    {
      "cell_type": "code",
      "execution_count": null,
      "metadata": {
        "id": "W-nHLP4tbc7s"
      },
      "outputs": [],
      "source": [
        "cadena = str(3)  # cadena tendrá el valor: '3'\n",
        "entero = int(3)  # entero tendrá el valor:  3\n",
        "real = float(3)  # real tendrá el valor: 3.\n"
      ]
    },
    {
      "cell_type": "code",
      "source": [
        "x = float(1)     # x será 1.0\n",
        "y = float(2.8)   # y será 2.8\n",
        "z = float(\"3\")   # z será 3.0\n",
        "w = float(\"4.2\") # w será 4.2"
      ],
      "metadata": {
        "id": "rJlBpoqPca7q"
      },
      "execution_count": null,
      "outputs": []
    },
    {
      "cell_type": "markdown",
      "source": [
        "<h2>Conocer el tipo de variable   </h2>"
      ],
      "metadata": {
        "id": "u8IJDhTNb7fB"
      }
    },
    {
      "cell_type": "code",
      "source": [
        "numero = 5\n",
        "nombre= \"Rosario\"\n",
        "print(type(numero))\n",
        "print(type(nombre))"
      ],
      "metadata": {
        "id": "KBT_tDgvcDfS"
      },
      "execution_count": null,
      "outputs": []
    },
    {
      "cell_type": "markdown",
      "source": [
        "<h2>Cambio de tipo de variable       </h2>"
      ],
      "metadata": {
        "id": "c_6HTtyHcK0C"
      }
    },
    {
      "cell_type": "code",
      "source": [
        "x = int(1)   # x será 1\n",
        "y = int(2.8) # y será 2\n",
        "z = int(\"3\") # z será 3"
      ],
      "metadata": {
        "id": "Ocno2R_bcRi7"
      },
      "execution_count": null,
      "outputs": []
    },
    {
      "cell_type": "code",
      "source": [
        "x = str(\"s1\") # x será 's1'\n",
        "y = str(2)    # y será '2'\n",
        "z = str(3.0)  # z será '3.0'"
      ],
      "metadata": {
        "id": "2EC2odciceup"
      },
      "execution_count": null,
      "outputs": []
    },
    {
      "cell_type": "markdown",
      "source": [
        "<h1>Tipos de cadena</h1>"
      ],
      "metadata": {
        "id": "4_pJd8s0dMhq"
      }
    },
    {
      "cell_type": "markdown",
      "source": [
        "<h2>Cadenas en Python</h2>"
      ],
      "metadata": {
        "id": "GfcTciFieWJ6"
      }
    },
    {
      "cell_type": "code",
      "source": [
        "print(\"Hola\")\n",
        "print('Hola')"
      ],
      "metadata": {
        "id": "qF2edRLeeMvq"
      },
      "execution_count": null,
      "outputs": []
    },
    {
      "cell_type": "markdown",
      "source": [
        "<h2>Cadenas multilínea</h2>"
      ],
      "metadata": {
        "id": "AGm766Yledfa"
      }
    },
    {
      "cell_type": "code",
      "source": [
        "texto = \"\"\"Lorem ipsum dolor sit amet,\n",
        "consectetur adipiscing elit,\n",
        "sed do eiusmod tempor incididunt\n",
        "ut labore et dolore magna aliqua.\"\"\"\n",
        "print(texto)"
      ],
      "metadata": {
        "id": "QEIsIqXze33e"
      },
      "execution_count": null,
      "outputs": []
    },
    {
      "cell_type": "markdown",
      "source": [
        "<h2>Las cadenas son matrices</h2>"
      ],
      "metadata": {
        "id": "2E5rUY_-fFty"
      }
    },
    {
      "cell_type": "code",
      "source": [
        "Saludo = \"Hola a todos!\"\n",
        "print(Saludo[0])"
      ],
      "metadata": {
        "id": "fs_hosVxfSZ5"
      },
      "execution_count": null,
      "outputs": []
    },
    {
      "cell_type": "markdown",
      "source": [
        "<h2>Longitud de la cadena</h2>"
      ],
      "metadata": {
        "id": "ICZJA3oJfXIA"
      }
    },
    {
      "cell_type": "code",
      "source": [
        "print(len(Saludo))"
      ],
      "metadata": {
        "id": "AzACKS_TfnqL"
      },
      "execution_count": null,
      "outputs": []
    },
    {
      "cell_type": "code",
      "source": [
        "mensaje = \"Hola, mundo!\"\n",
        "print(mensaje[2:5])\n",
        "print(mensaje[:5])"
      ],
      "metadata": {
        "id": "nTtUuZGLftQy"
      },
      "execution_count": null,
      "outputs": []
    },
    {
      "cell_type": "markdown",
      "source": [
        "Python tiene un conjunto de métodos integrados que puede usar en cadenas.\n",
        "\n",
        "El método upper()devuelve la cadena en mayúsculas.\n",
        "\n",
        "El método lower()devuelve la cadena en minúsculas.\n",
        "\n",
        "El método strip()elimina cualquier espacio en blanco en la cadena al inicio o al final.\n",
        "\n",
        "El método replace()reemplaza una cadena por otra."
      ],
      "metadata": {
        "id": "GuqG6Q13f3Vj"
      }
    },
    {
      "cell_type": "code",
      "source": [
        "mensaje=\"Hola,mundo!\"\n",
        "print(mensaje.upper())\n",
        "print(mensaje.lower())\n",
        "print(mensaje.strip())\n",
        "print(mensaje.replace())"
      ],
      "metadata": {
        "id": "4oL-Iay2f5nQ"
      },
      "execution_count": null,
      "outputs": []
    },
    {
      "cell_type": "markdown",
      "source": [
        "<h2>Formato de cadenas</h2>"
      ],
      "metadata": {
        "id": "9HPF1m2Whzup"
      }
    },
    {
      "cell_type": "code",
      "source": [
        "precio= 49\n",
        "texto = \"El precio es de {} pesos\"\n",
        "print(texto.format(precio))"
      ],
      "metadata": {
        "id": "oeldHSE6iA2i"
      },
      "execution_count": null,
      "outputs": []
    },
    {
      "cell_type": "code",
      "source": [
        "texto = \"El precio es de {:.2f} pesos\""
      ],
      "metadata": {
        "id": "FpSIO4d6iEjf"
      },
      "execution_count": null,
      "outputs": []
    },
    {
      "cell_type": "code",
      "source": [
        "cantidad= 3\n",
        "codigo = 567\n",
        "precio = 49\n",
        "miOrden = \"Quiero {} piezas con el código {} con costo de {:.2f} pesos.\"\n",
        "print(miOrden.format(cantidad, codigo, precio))"
      ],
      "metadata": {
        "id": "A8K6U153iHk_"
      },
      "execution_count": null,
      "outputs": []
    },
    {
      "cell_type": "markdown",
      "source": [
        "<h2>Operadores en Python</h2>"
      ],
      "metadata": {
        "id": "0kG_W8JikCfR"
      }
    },
    {
      "cell_type": "markdown",
      "source": [
        "<h2>Python divide a los operadores en los siguientes grupos:</h2>\n",
        "\n",
        "Operadores aritméticos<br>\n",
        "Operadores de comparación<br>\n",
        "Operadores lógicos<br>\n",
        "Operadores de identidad<br>\n",
        "Operadores de membresía<br>\n",
        "Operadores bit a bit<br>"
      ],
      "metadata": {
        "id": "M-GZoRckkZHm"
      }
    },
    {
      "cell_type": "code",
      "source": [],
      "metadata": {
        "id": "El2mml_Akg_R"
      },
      "execution_count": null,
      "outputs": []
    },
    {
      "cell_type": "code",
      "source": [],
      "metadata": {
        "id": "pULsAPvKkTJh"
      },
      "execution_count": null,
      "outputs": []
    }
  ]
}